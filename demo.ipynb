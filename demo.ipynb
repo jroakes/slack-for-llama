{
 "cells": [
  {
   "cell_type": "code",
   "execution_count": null,
   "metadata": {},
   "outputs": [],
   "source": [
    "!pip install repocoder"
   ]
  },
  {
   "cell_type": "code",
   "execution_count": null,
   "metadata": {},
   "outputs": [],
   "source": [
    "from repocoder import send_for_review, print_options\n",
    "\n",
    "print_options()\n",
    "\n",
    "action = \"\"\"\n",
    "Please provide the cause of the following error in training:\n",
    "2024-11-16 20:46:53,859 - INFO - Configuring LoRA with target modules: ['q_proj', 'k_proj', 'v_proj', 'o_proj', 'gate_proj', 'up_proj', 'down_proj']\n",
    "2024-11-16 20:46:54,345 - ERROR - Training error: name 'config' is not defined\n",
    "Training failed\n",
    "\"\"\"\n",
    "# model=\"claude-3-5-sonnet-latest\"\n",
    "\n",
    "send_for_review(action, llm=\"anthropic\", model=\"claude-3-5-sonnet-latest\", additional_exclude_files=['.gitignore', \"LICENSE.md\"], additional_exclude_dirs=[\"data\", \".idea\", \".ipython\", \".nv\", \".lightning_studio\", \".vscode\"])\n"
   ]
  },
  {
   "cell_type": "code",
   "execution_count": 2,
   "metadata": {},
   "outputs": [],
   "source": [
    "from transformers import AutoModelForCausalLM, AutoTokenizer\n",
    "\n",
    "model_name = \"meta-llama/Llama-3.2-3B\"\n",
    "\n",
    "\n",
    "tokenizer = AutoTokenizer.from_pretrained(model_name)\n",
    "\n"
   ]
  },
  {
   "cell_type": "code",
   "execution_count": 7,
   "metadata": {},
   "outputs": [],
   "source": [
    "base_template = \"<|begin_of_text|>{% for message in messages %}{% if message.role == 'system' %}System: {{ message.content }}\\\\n\\\\n{% elif message.role == 'user' %}Human: {{ message.content }}\\\\n{% elif message.role == 'assistant' %}Assistant: {{ message.content }}\\\\n\\\\n{% endif %}{% endfor %}\"\n",
    "tokenizer.chat_template = base_template"
   ]
  },
  {
   "cell_type": "code",
   "execution_count": 8,
   "metadata": {},
   "outputs": [
    {
     "data": {
      "text/plain": [
       "\"<|begin_of_text|>{% for message in messages %}{% if message.role == 'system' %}System: {{ message.content }}\\\\n\\\\n{% elif message.role == 'user' %}Human: {{ message.content }}\\\\n{% elif message.role == 'assistant' %}Assistant: {{ message.content }}\\\\n\\\\n{% endif %}{% endfor %}\""
      ]
     },
     "execution_count": 8,
     "metadata": {},
     "output_type": "execute_result"
    }
   ],
   "source": [
    "tokenizer.get_chat_template()"
   ]
  }
 ],
 "metadata": {
  "language_info": {
   "name": "python"
  }
 },
 "nbformat": 4,
 "nbformat_minor": 2
}
